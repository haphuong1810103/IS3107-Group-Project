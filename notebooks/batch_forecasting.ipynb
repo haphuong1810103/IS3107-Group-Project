{
 "cells": [
  {
   "cell_type": "markdown",
   "id": "b8025f83",
   "metadata": {},
   "source": [
    "# Financial Forecasting Model\n",
    "\n",
    "## Steps\n",
    "1. Read rows from Google BigQuery\n",
    "2. Train forecasting model\n",
    "    - ARIMA\n",
    "    - LSTM\n",
    "3. Generate 30 day forecasts\n",
    "4. Backtest\n",
    "5. Insert predicted closing prices into Google BigQuery table\n",
    "6. Visualize in Looker Studio"
   ]
  },
  {
   "cell_type": "code",
   "execution_count": 1,
   "id": "ce4a64ae",
   "metadata": {},
   "outputs": [
    {
     "name": "stdout",
     "output_type": "stream",
     "text": [
      "is3107-project-455413\n"
     ]
    }
   ],
   "source": [
    "import pandas as pd\n",
    "from sklearn.metrics import mean_squared_error, mean_absolute_error\n",
    "import os\n",
    "\n",
    "PROJECT_ID = os.getenv(\"GCP_PROJECT_ID\")\n",
    "TABLE_ID = \"is3107-project-455413.market_data.yf_30days_json\"\n",
    "BIGQUERY_COLUMNS = [\"Ticker\", \"Date\", \"Open\", \"High\", \"Low\", \"Close\", \"Volume\"]\n",
    "\n",
    "print(PROJECT_ID)"
   ]
  },
  {
   "cell_type": "code",
   "execution_count": 2,
   "id": "f886f393",
   "metadata": {},
   "outputs": [
    {
     "name": "stderr",
     "output_type": "stream",
     "text": [
      "/home/muhdjabir/repo/IS3107-Group-Project/.venv/lib/python3.10/site-packages/google/cloud/bigquery/table.py:1933: UserWarning: BigQuery Storage module not found, fetch data with the REST endpoint instead.\n",
      "  warnings.warn(\n"
     ]
    }
   ],
   "source": [
    "from google.cloud import bigquery\n",
    "\n",
    "client = bigquery.Client(PROJECT_ID)\n",
    "query = f\"\"\"\n",
    "SELECT Ticker, Date, Open, High, Low, Close, Volume\n",
    "FROM `{TABLE_ID}`\n",
    "\"\"\"\n",
    "\n",
    "df = client.query(query).to_dataframe()"
   ]
  },
  {
   "cell_type": "code",
   "execution_count": 16,
   "id": "9c86d208",
   "metadata": {},
   "outputs": [
    {
     "name": "stdout",
     "output_type": "stream",
     "text": [
      "  Ticker        Date          Open          High           Low         Close  \\\n",
      "0  ^GSPC  2025-04-16   5335.750000   5367.240234   5220.790039   5275.700195   \n",
      "1   ^NDX  2025-04-16  18475.759766  18597.320312  17995.960938  18257.640625   \n",
      "2   DJIA  2023-01-05     17.638950     17.720612     17.614450     17.614450   \n",
      "3   DJIA  2023-01-06     17.671616     17.883937     17.655285     17.818607   \n",
      "4   DJIA  2023-01-09     17.785947     18.079929     17.663453     17.834944   \n",
      "\n",
      "       Volume  \n",
      "0  4607750000  \n",
      "1  7909190000  \n",
      "2       20500  \n",
      "3       30600  \n",
      "4       46700  \n",
      "<class 'pandas.core.frame.DataFrame'>\n",
      "RangeIndex: 3445 entries, 0 to 3444\n",
      "Data columns (total 7 columns):\n",
      " #   Column  Non-Null Count  Dtype  \n",
      "---  ------  --------------  -----  \n",
      " 0   Ticker  3445 non-null   object \n",
      " 1   Date    3445 non-null   dbdate \n",
      " 2   Open    3445 non-null   float64\n",
      " 3   High    3445 non-null   float64\n",
      " 4   Low     3445 non-null   float64\n",
      " 5   Close   3445 non-null   float64\n",
      " 6   Volume  3445 non-null   Int64  \n",
      "dtypes: Int64(1), dbdate(1), float64(4), object(1)\n",
      "memory usage: 191.9+ KB\n",
      "None\n",
      "['^GSPC' '^NDX' 'DJIA' 'BTC-USD' 'DOGE-USD']\n"
     ]
    }
   ],
   "source": [
    "print(df.head())\n",
    "print(df.info())\n",
    "tickers = df[\"Ticker\"].unique()\n",
    "print(tickers)"
   ]
  },
  {
   "cell_type": "markdown",
   "id": "2c5901ef",
   "metadata": {},
   "source": [
    "### ARIMA Forecasting"
   ]
  },
  {
   "cell_type": "code",
   "execution_count": 17,
   "id": "5798d215",
   "metadata": {},
   "outputs": [
    {
     "name": "stdout",
     "output_type": "stream",
     "text": [
      "PROCESSING ^GSPC\n",
      "^GSPC - ARIMA(2, 1, 2) | RMSE: 242.95, MAE: 195.17\n",
      "PROCESSING ^NDX\n",
      "^NDX - ARIMA(2, 1, 3) | RMSE: 1085.74, MAE: 892.40\n",
      "PROCESSING DJIA\n",
      "DJIA - ARIMA(2, 1, 2) | RMSE: 1.00, MAE: 0.91\n",
      "PROCESSING BTC-USD\n",
      "BTC-USD - ARIMA(2, 1, 2) | RMSE: 13201.45, MAE: 11173.86\n",
      "PROCESSING DOGE-USD\n",
      "DOGE-USD - ARIMA(1, 0, 3) | RMSE: 0.18, MAE: 0.16\n"
     ]
    },
    {
     "data": {
      "text/html": [
       "<div>\n",
       "<style scoped>\n",
       "    .dataframe tbody tr th:only-of-type {\n",
       "        vertical-align: middle;\n",
       "    }\n",
       "\n",
       "    .dataframe tbody tr th {\n",
       "        vertical-align: top;\n",
       "    }\n",
       "\n",
       "    .dataframe thead th {\n",
       "        text-align: right;\n",
       "    }\n",
       "</style>\n",
       "<table border=\"1\" class=\"dataframe\">\n",
       "  <thead>\n",
       "    <tr style=\"text-align: right;\">\n",
       "      <th></th>\n",
       "      <th>date</th>\n",
       "      <th>ticker</th>\n",
       "      <th>predicted_close</th>\n",
       "      <th>actual_close</th>\n",
       "      <th>type</th>\n",
       "      <th>rmse</th>\n",
       "      <th>mae</th>\n",
       "      <th>model</th>\n",
       "      <th>training_timestamp</th>\n",
       "    </tr>\n",
       "  </thead>\n",
       "  <tbody>\n",
       "    <tr>\n",
       "      <th>0</th>\n",
       "      <td>2024-10-30</td>\n",
       "      <td>^GSPC</td>\n",
       "      <td>5831.317463</td>\n",
       "      <td>5813.669922</td>\n",
       "      <td>backtest</td>\n",
       "      <td>242.951723</td>\n",
       "      <td>195.165268</td>\n",
       "      <td>ARIMA(2, 1, 2)</td>\n",
       "      <td>2025-04-18 01:24:27.378617</td>\n",
       "    </tr>\n",
       "    <tr>\n",
       "      <th>1</th>\n",
       "      <td>2024-10-31</td>\n",
       "      <td>^GSPC</td>\n",
       "      <td>5832.630625</td>\n",
       "      <td>5705.450195</td>\n",
       "      <td>backtest</td>\n",
       "      <td>242.951723</td>\n",
       "      <td>195.165268</td>\n",
       "      <td>ARIMA(2, 1, 2)</td>\n",
       "      <td>2025-04-18 01:24:27.378682</td>\n",
       "    </tr>\n",
       "    <tr>\n",
       "      <th>2</th>\n",
       "      <td>2024-11-01</td>\n",
       "      <td>^GSPC</td>\n",
       "      <td>5832.673408</td>\n",
       "      <td>5728.799805</td>\n",
       "      <td>backtest</td>\n",
       "      <td>242.951723</td>\n",
       "      <td>195.165268</td>\n",
       "      <td>ARIMA(2, 1, 2)</td>\n",
       "      <td>2025-04-18 01:24:27.378721</td>\n",
       "    </tr>\n",
       "    <tr>\n",
       "      <th>3</th>\n",
       "      <td>2024-11-04</td>\n",
       "      <td>^GSPC</td>\n",
       "      <td>5831.379214</td>\n",
       "      <td>5712.689941</td>\n",
       "      <td>backtest</td>\n",
       "      <td>242.951723</td>\n",
       "      <td>195.165268</td>\n",
       "      <td>ARIMA(2, 1, 2)</td>\n",
       "      <td>2025-04-18 01:24:27.378760</td>\n",
       "    </tr>\n",
       "    <tr>\n",
       "      <th>4</th>\n",
       "      <td>2024-11-05</td>\n",
       "      <td>^GSPC</td>\n",
       "      <td>5832.795048</td>\n",
       "      <td>5782.759766</td>\n",
       "      <td>backtest</td>\n",
       "      <td>242.951723</td>\n",
       "      <td>195.165268</td>\n",
       "      <td>ARIMA(2, 1, 2)</td>\n",
       "      <td>2025-04-18 01:24:27.378796</td>\n",
       "    </tr>\n",
       "  </tbody>\n",
       "</table>\n",
       "</div>"
      ],
      "text/plain": [
       "         date ticker predicted_close actual_close      type        rmse  \\\n",
       "0  2024-10-30  ^GSPC     5831.317463  5813.669922  backtest  242.951723   \n",
       "1  2024-10-31  ^GSPC     5832.630625  5705.450195  backtest  242.951723   \n",
       "2  2024-11-01  ^GSPC     5832.673408  5728.799805  backtest  242.951723   \n",
       "3  2024-11-04  ^GSPC     5831.379214  5712.689941  backtest  242.951723   \n",
       "4  2024-11-05  ^GSPC     5832.795048  5782.759766  backtest  242.951723   \n",
       "\n",
       "          mae           model         training_timestamp  \n",
       "0  195.165268  ARIMA(2, 1, 2) 2025-04-18 01:24:27.378617  \n",
       "1  195.165268  ARIMA(2, 1, 2) 2025-04-18 01:24:27.378682  \n",
       "2  195.165268  ARIMA(2, 1, 2) 2025-04-18 01:24:27.378721  \n",
       "3  195.165268  ARIMA(2, 1, 2) 2025-04-18 01:24:27.378760  \n",
       "4  195.165268  ARIMA(2, 1, 2) 2025-04-18 01:24:27.378796  "
      ]
     },
     "execution_count": 17,
     "metadata": {},
     "output_type": "execute_result"
    }
   ],
   "source": [
    "import numpy as np\n",
    "import matplotlib.pyplot as plt\n",
    "from statsmodels.tsa.arima.model import ARIMA\n",
    "from datetime import datetime\n",
    "import warnings\n",
    "\n",
    "warnings.filterwarnings('ignore')\n",
    "\n",
    "forecast_records = []\n",
    "best_orders_by_ticker = {}\n",
    "\n",
    "for ticker in tickers:\n",
    "    print(f\"PROCESSING {ticker}\")\n",
    "    try:\n",
    "        ticker_df = df[df[\"Ticker\"] == ticker].sort_values(\"Date\")\n",
    "        ticker_df.set_index(\"Date\", inplace=True)\n",
    "        series = ticker_df[\"Close\"]\n",
    "\n",
    "        if len(series) < 20:\n",
    "            print(f\"Not enough data for {ticker}, skipping.\")\n",
    "            continue\n",
    "\n",
    "        train_size = int(len(series) * 0.8)\n",
    "        train, test = series[:train_size], series[train_size:]\n",
    "\n",
    "        best_aic = float(\"inf\")\n",
    "        best_order = None\n",
    "        best_model = None\n",
    "\n",
    "        for p in range(0, 4):\n",
    "            for d in range(0, 2):\n",
    "                for q in range(0, 4):\n",
    "                    try:\n",
    "                        model = ARIMA(train, order=(p, d, q))\n",
    "                        model_fit = model.fit()\n",
    "                        if model_fit.aic < best_aic:\n",
    "                            best_aic = model_fit.aic\n",
    "                            best_order = (p, d, q)\n",
    "                            best_model = model_fit\n",
    "                    except:\n",
    "                        continue\n",
    "\n",
    "        if best_model:\n",
    "            best_orders_by_ticker[ticker] = best_order\n",
    "            forecast = best_model.forecast(len(test))\n",
    "            forecast.index = test.index\n",
    "            rmse = np.sqrt(mean_squared_error(test, forecast))\n",
    "            mae = mean_absolute_error(test, forecast)\n",
    "            print(f\"{ticker} - ARIMA{best_order} | RMSE: {rmse:.2f}, MAE: {mae:.2f}\")\n",
    "\n",
    "            for date in test.index:\n",
    "                forecast_records.append({\n",
    "                    \"date\": date,\n",
    "                    \"ticker\": ticker,\n",
    "                    \"predicted_close\": forecast.loc[date],\n",
    "                    \"actual_close\": test.loc[date],\n",
    "                    \"type\": \"backtest\",\n",
    "                    \"rmse\": rmse,\n",
    "                    \"mae\": mae,\n",
    "                    \"model\": f\"ARIMA{best_order}\",\n",
    "                    \"training_timestamp\": datetime.now()\n",
    "                })\n",
    "\n",
    "    except Exception as e:\n",
    "        print(f\"Error processing {ticker}: {e}\")\n",
    "\n",
    "backtest_forecast_df = pd.DataFrame(forecast_records)\n",
    "backtest_forecast_df.head()"
   ]
  },
  {
   "cell_type": "code",
   "execution_count": 18,
   "id": "9e4d5e05",
   "metadata": {},
   "outputs": [
    {
     "name": "stdout",
     "output_type": "stream",
     "text": [
      "522    2024-11-02\n",
      "523    2024-11-03\n",
      "524    2024-11-04\n",
      "525    2024-11-05\n",
      "526    2024-11-06\n",
      "          ...    \n",
      "685    2025-04-14\n",
      "686    2025-04-15\n",
      "687    2025-04-16\n",
      "688    2025-04-16\n",
      "689    2025-04-17\n",
      "Name: date, Length: 168, dtype: object\n"
     ]
    }
   ],
   "source": [
    "print(backtest_forecast_df[backtest_forecast_df[\"ticker\"] == \"DOGE-USD\"][\"date\"])"
   ]
  },
  {
   "cell_type": "code",
   "execution_count": 19,
   "id": "317cbd90",
   "metadata": {},
   "outputs": [
    {
     "name": "stdout",
     "output_type": "stream",
     "text": [
      "PREDICTING FUTURE FOR ^GSPC\n",
      "PREDICTING FUTURE FOR ^NDX\n",
      "PREDICTING FUTURE FOR DJIA\n",
      "PREDICTING FUTURE FOR BTC-USD\n",
      "PREDICTING FUTURE FOR DOGE-USD\n",
      "         date    ticker  predicted_close actual_close        type  rmse   mae  \\\n",
      "30 2025-04-20  DOGE-USD         0.156547         None  prediction  None  None   \n",
      "31 2025-04-21  DOGE-USD         0.156407         None  prediction  None  None   \n",
      "32 2025-04-22  DOGE-USD         0.156268         None  prediction  None  None   \n",
      "33 2025-04-23  DOGE-USD         0.156130         None  prediction  None  None   \n",
      "34 2025-04-24  DOGE-USD         0.155993         None  prediction  None  None   \n",
      "\n",
      "             model         training_timestamp  \n",
      "30  ARIMA(1, 0, 3) 2025-04-18 01:25:32.259144  \n",
      "31  ARIMA(1, 0, 3) 2025-04-18 01:25:32.259147  \n",
      "32  ARIMA(1, 0, 3) 2025-04-18 01:25:32.259150  \n",
      "33  ARIMA(1, 0, 3) 2025-04-18 01:25:32.259153  \n",
      "34  ARIMA(1, 0, 3) 2025-04-18 01:25:32.259156  \n"
     ]
    }
   ],
   "source": [
    "from datetime import timedelta\n",
    "\n",
    "forecast_records = []\n",
    "for ticker in tickers:\n",
    "    print(f\"PREDICTING FUTURE FOR {ticker}\")\n",
    "    try:\n",
    "        if ticker not in best_orders_by_ticker:\n",
    "            print(f\"No ARIMA order found from backtest for {ticker}, skipping.\")\n",
    "            continue\n",
    "\n",
    "        order = best_orders_by_ticker[ticker]\n",
    "        ticker_df = df[df[\"Ticker\"] == ticker].sort_values(\"Date\")\n",
    "        ticker_df.set_index(\"Date\", inplace=True)\n",
    "        series = ticker_df[\"Close\"]\n",
    "\n",
    "        model = ARIMA(series, order=order)\n",
    "        model_fit = model.fit()\n",
    "        forecast = model_fit.forecast(steps=7)\n",
    "\n",
    "        last_date = series.index[-1]\n",
    "        forecast_dates = pd.date_range(start=last_date + timedelta(days=1), periods=7, freq=\"D\")\n",
    "\n",
    "        for date, pred in zip(forecast_dates, forecast):\n",
    "            forecast_records.append({\n",
    "                \"date\": date,\n",
    "                \"ticker\": ticker,\n",
    "                \"predicted_close\": pred,\n",
    "                \"actual_close\": None,\n",
    "                \"type\": \"prediction\",\n",
    "                \"rmse\": None,\n",
    "                \"mae\": None,\n",
    "                \"model\": f\"ARIMA{order}\",\n",
    "                \"training_timestamp\": datetime.now()\n",
    "            })\n",
    "\n",
    "    except Exception as e:\n",
    "        print(f\"Error predicting future for {ticker}: {e}\")\n",
    "\n",
    "\n",
    "prediction_forecast_df = pd.DataFrame(forecast_records)\n",
    "print(prediction_forecast_df.tail())"
   ]
  },
  {
   "cell_type": "code",
   "execution_count": 20,
   "id": "6e6e5890",
   "metadata": {},
   "outputs": [
    {
     "name": "stdout",
     "output_type": "stream",
     "text": [
      "28   2025-04-18\n",
      "29   2025-04-19\n",
      "30   2025-04-20\n",
      "31   2025-04-21\n",
      "32   2025-04-22\n",
      "33   2025-04-23\n",
      "34   2025-04-24\n",
      "Name: date, dtype: datetime64[ns]\n"
     ]
    }
   ],
   "source": [
    "print(prediction_forecast_df[prediction_forecast_df[\"ticker\"] == \"DOGE-USD\"][\"date\"])"
   ]
  },
  {
   "cell_type": "code",
   "execution_count": null,
   "id": "1f4a4d7d",
   "metadata": {},
   "outputs": [],
   "source": [
    "\n",
    "from pandas_gbq import to_gbq\n",
    "\n",
    "DESTINATION_TABLE_ID = \"is3107-project-455413.market_data.stock_forecast\"\n",
    "final_forecast_df = pd.concat([backtest_forecast_df, prediction_forecast_df])\n",
    "\n",
    "final_forecast_df[\"date\"] = pd.to_datetime(final_forecast_df[\"date\"], errors='coerce')\n",
    "final_forecast_df[\"training_timestamp\"] = pd.to_datetime(final_forecast_df[\"training_timestamp\"], errors='coerce')\n",
    "\n",
    "final_forecast_df[\"ticker\"] = final_forecast_df[\"ticker\"].astype(str)\n",
    "final_forecast_df[\"type\"] = final_forecast_df[\"type\"].astype(str)\n",
    "final_forecast_df[\"model\"] = final_forecast_df[\"model\"].astype(str)\n",
    "\n",
    "final_forecast_df[\"predicted_close\"] = pd.to_numeric(final_forecast_df[\"predicted_close\"], errors='coerce')\n",
    "final_forecast_df[\"actual_close\"] = pd.to_numeric(final_forecast_df[\"actual_close\"], errors='coerce')\n",
    "\n",
    "to_gbq(\n",
    "    final_forecast_df,\n",
    "    DESTINATION_TABLE_ID,\n",
    "    project_id=PROJECT_ID,\n",
    "    if_exists='append',\n",
    ")"
   ]
  },
  {
   "cell_type": "markdown",
   "id": "e3bc6a5a",
   "metadata": {},
   "source": [
    "### LSTM Forecasting"
   ]
  }
 ],
 "metadata": {
  "kernelspec": {
   "display_name": ".venv",
   "language": "python",
   "name": "python3"
  },
  "language_info": {
   "codemirror_mode": {
    "name": "ipython",
    "version": 3
   },
   "file_extension": ".py",
   "mimetype": "text/x-python",
   "name": "python",
   "nbconvert_exporter": "python",
   "pygments_lexer": "ipython3",
   "version": "3.10.12"
  }
 },
 "nbformat": 4,
 "nbformat_minor": 5
}
