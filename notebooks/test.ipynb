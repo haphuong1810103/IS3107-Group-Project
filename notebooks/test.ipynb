{
 "cells": [
  {
   "cell_type": "code",
   "execution_count": 1,
   "id": "4f5c6461",
   "metadata": {},
   "outputs": [],
   "source": [
    "import yfinance as yf\n",
    "import pandas as pd\n",
    "import datetime\n",
    "from google.cloud import storage, bigquery\n",
    "import os\n",
    "import json\n",
    "from dotenv import load_dotenv"
   ]
  },
  {
   "cell_type": "code",
   "execution_count": 9,
   "id": "065a2946",
   "metadata": {},
   "outputs": [],
   "source": [
    "# === CONFIGURATION ===\n",
    "ticker = \"^GSPC\""
   ]
  },
  {
   "cell_type": "code",
   "execution_count": 16,
   "id": "8a22b10c",
   "metadata": {},
   "outputs": [],
   "source": [
    "def download_data(ticker, start_date, end_date):\n",
    "    if start_date >= end_date:\n",
    "        print(f\"No new data to download for {ticker} (start_date: {start_date}, end_date: {end_date})\")\n",
    "        return pd.DataFrame()\n",
    "    \n",
    "    print(f\"Downloading {ticker} data from {start_date} to {end_date} (15-minute interval)\")\n",
    "    df = yf.download(ticker, start=start_date, end=end_date, interval='15m')\n",
    "\n",
    "    if df.empty:\n",
    "        print(f\"No data available for {ticker} in the requested date range\")\n",
    "        return df\n",
    "\n",
    "    df = df.reset_index()\n",
    "\n",
    "    # If MultiIndex, flatten by combining levels with underscore\n",
    "    if isinstance(df.columns, pd.MultiIndex):\n",
    "        df.columns = [col[0] for col in df.columns.values]\n",
    "\n",
    "    df['Ticker'] = ticker\n",
    "    df['Datetime'] = df['Datetime'].dt.tz_convert('UTC').dt.strftime('%Y-%m-%d %H:%M:%S%z')\n",
    "    return df"
   ]
  },
  {
   "cell_type": "code",
   "execution_count": 17,
   "id": "29749c7f",
   "metadata": {},
   "outputs": [],
   "source": [
    "current_date = datetime.datetime.now()\n",
    "start_date = current_date - datetime.timedelta(days=5)\n"
   ]
  },
  {
   "cell_type": "code",
   "execution_count": 18,
   "id": "cb6f9118",
   "metadata": {},
   "outputs": [
    {
     "name": "stderr",
     "output_type": "stream",
     "text": [
      "[*********************100%***********************]  1 of 1 completed"
     ]
    },
    {
     "name": "stdout",
     "output_type": "stream",
     "text": [
      "Downloading ^GSPC data from 2025-04-13 02:05:39.812396 to 2025-04-18 02:05:39.812396 (15-minute interval)\n"
     ]
    },
    {
     "name": "stderr",
     "output_type": "stream",
     "text": [
      "\n"
     ]
    }
   ],
   "source": [
    "df = download_data(ticker, start_date, current_date)"
   ]
  },
  {
   "cell_type": "code",
   "execution_count": 19,
   "id": "4968f749",
   "metadata": {},
   "outputs": [
    {
     "data": {
      "text/html": [
       "<div>\n",
       "<style scoped>\n",
       "    .dataframe tbody tr th:only-of-type {\n",
       "        vertical-align: middle;\n",
       "    }\n",
       "\n",
       "    .dataframe tbody tr th {\n",
       "        vertical-align: top;\n",
       "    }\n",
       "\n",
       "    .dataframe thead th {\n",
       "        text-align: right;\n",
       "    }\n",
       "</style>\n",
       "<table border=\"1\" class=\"dataframe\">\n",
       "  <thead>\n",
       "    <tr style=\"text-align: right;\">\n",
       "      <th></th>\n",
       "      <th>Datetime</th>\n",
       "      <th>Close</th>\n",
       "      <th>High</th>\n",
       "      <th>Low</th>\n",
       "      <th>Open</th>\n",
       "      <th>Volume</th>\n",
       "      <th>Ticker</th>\n",
       "    </tr>\n",
       "  </thead>\n",
       "  <tbody>\n",
       "    <tr>\n",
       "      <th>0</th>\n",
       "      <td>2025-04-14 13:30:00+0000</td>\n",
       "      <td>5425.160156</td>\n",
       "      <td>5459.459961</td>\n",
       "      <td>5411.609863</td>\n",
       "      <td>5441.959961</td>\n",
       "      <td>116713794</td>\n",
       "      <td>^GSPC</td>\n",
       "    </tr>\n",
       "    <tr>\n",
       "      <th>1</th>\n",
       "      <td>2025-04-14 13:45:00+0000</td>\n",
       "      <td>5424.149902</td>\n",
       "      <td>5436.680176</td>\n",
       "      <td>5411.790039</td>\n",
       "      <td>5425.250000</td>\n",
       "      <td>132679832</td>\n",
       "      <td>^GSPC</td>\n",
       "    </tr>\n",
       "    <tr>\n",
       "      <th>2</th>\n",
       "      <td>2025-04-14 14:00:00+0000</td>\n",
       "      <td>5433.129883</td>\n",
       "      <td>5453.129883</td>\n",
       "      <td>5420.060059</td>\n",
       "      <td>5424.000000</td>\n",
       "      <td>124629795</td>\n",
       "      <td>^GSPC</td>\n",
       "    </tr>\n",
       "    <tr>\n",
       "      <th>3</th>\n",
       "      <td>2025-04-14 14:15:00+0000</td>\n",
       "      <td>5438.450195</td>\n",
       "      <td>5441.680176</td>\n",
       "      <td>5418.029785</td>\n",
       "      <td>5433.410156</td>\n",
       "      <td>104136933</td>\n",
       "      <td>^GSPC</td>\n",
       "    </tr>\n",
       "    <tr>\n",
       "      <th>4</th>\n",
       "      <td>2025-04-14 14:30:00+0000</td>\n",
       "      <td>5442.209961</td>\n",
       "      <td>5447.810059</td>\n",
       "      <td>5434.810059</td>\n",
       "      <td>5438.919922</td>\n",
       "      <td>98297399</td>\n",
       "      <td>^GSPC</td>\n",
       "    </tr>\n",
       "  </tbody>\n",
       "</table>\n",
       "</div>"
      ],
      "text/plain": [
       "                   Datetime        Close         High          Low  \\\n",
       "0  2025-04-14 13:30:00+0000  5425.160156  5459.459961  5411.609863   \n",
       "1  2025-04-14 13:45:00+0000  5424.149902  5436.680176  5411.790039   \n",
       "2  2025-04-14 14:00:00+0000  5433.129883  5453.129883  5420.060059   \n",
       "3  2025-04-14 14:15:00+0000  5438.450195  5441.680176  5418.029785   \n",
       "4  2025-04-14 14:30:00+0000  5442.209961  5447.810059  5434.810059   \n",
       "\n",
       "          Open     Volume Ticker  \n",
       "0  5441.959961  116713794  ^GSPC  \n",
       "1  5425.250000  132679832  ^GSPC  \n",
       "2  5424.000000  124629795  ^GSPC  \n",
       "3  5433.410156  104136933  ^GSPC  \n",
       "4  5438.919922   98297399  ^GSPC  "
      ]
     },
     "execution_count": 19,
     "metadata": {},
     "output_type": "execute_result"
    }
   ],
   "source": [
    "df.head()"
   ]
  },
  {
   "cell_type": "code",
   "execution_count": 7,
   "id": "38e39e20",
   "metadata": {},
   "outputs": [
    {
     "data": {
      "text/plain": [
       "449"
      ]
     },
     "execution_count": 7,
     "metadata": {},
     "output_type": "execute_result"
    }
   ],
   "source": [
    "len(df)"
   ]
  },
  {
   "cell_type": "code",
   "execution_count": null,
   "id": "13b43ef1",
   "metadata": {},
   "outputs": [],
   "source": []
  }
 ],
 "metadata": {
  "kernelspec": {
   "display_name": ".venv",
   "language": "python",
   "name": "python3"
  },
  "language_info": {
   "codemirror_mode": {
    "name": "ipython",
    "version": 3
   },
   "file_extension": ".py",
   "mimetype": "text/x-python",
   "name": "python",
   "nbconvert_exporter": "python",
   "pygments_lexer": "ipython3",
   "version": "3.13.3"
  }
 },
 "nbformat": 4,
 "nbformat_minor": 5
}
