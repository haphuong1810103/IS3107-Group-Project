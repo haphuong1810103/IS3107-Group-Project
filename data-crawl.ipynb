{
 "cells": [
  {
   "cell_type": "code",
   "execution_count": 1,
   "id": "f1a75b8d",
   "metadata": {},
   "outputs": [],
   "source": [
    "import yfinance as yf\n",
    "import pandas as pd\n",
    "from datetime import datetime, date, timedelta\n",
    "import numpy as np"
   ]
  },
  {
   "cell_type": "code",
   "execution_count": 2,
   "id": "af5adc27",
   "metadata": {},
   "outputs": [],
   "source": [
    "# Define the ticker and create a Ticker object\n",
    "ticker = \"BTC\"\n",
    "stock = yf.Ticker(ticker)"
   ]
  },
  {
   "cell_type": "code",
   "execution_count": 3,
   "id": "eb3acf65",
   "metadata": {},
   "outputs": [
    {
     "name": "stdout",
     "output_type": "stream",
     "text": [
      "                                Open       High        Low      Close  \\\n",
      "Date                                                                    \n",
      "2025-03-04 00:00:00-05:00  36.654999  39.360001  36.119999  38.500000   \n",
      "2025-03-05 00:00:00-05:00  39.790001  40.130001  38.810001  40.080002   \n",
      "2025-03-06 00:00:00-05:00  39.849998  40.536999  38.900002  39.459999   \n",
      "2025-03-07 00:00:00-05:00  39.500000  40.377998  38.340000  38.540001   \n",
      "2025-03-10 00:00:00-04:00  36.650002  36.730000  34.279999  34.990002   \n",
      "\n",
      "                            Volume  Dividends  Stock Splits  Capital Gains  \n",
      "Date                                                                        \n",
      "2025-03-04 00:00:00-05:00  1969000        0.0           0.0            0.0  \n",
      "2025-03-05 00:00:00-05:00   945400        0.0           0.0            0.0  \n",
      "2025-03-06 00:00:00-05:00   853600        0.0           0.0            0.0  \n",
      "2025-03-07 00:00:00-05:00   747900        0.0           0.0            0.0  \n",
      "2025-03-10 00:00:00-04:00  1961100        0.0           0.0            0.0  \n"
     ]
    }
   ],
   "source": [
    "historical_data = stock.history(period=\"1mo\")\n",
    "print(historical_data.head())"
   ]
  },
  {
   "cell_type": "code",
   "execution_count": null,
   "id": "bbddcd84",
   "metadata": {},
   "outputs": [],
   "source": []
  }
 ],
 "metadata": {
  "kernelspec": {
   "display_name": ".venv",
   "language": "python",
   "name": "python3"
  },
  "language_info": {
   "codemirror_mode": {
    "name": "ipython",
    "version": 3
   },
   "file_extension": ".py",
   "mimetype": "text/x-python",
   "name": "python",
   "nbconvert_exporter": "python",
   "pygments_lexer": "ipython3",
   "version": "3.10.8"
  }
 },
 "nbformat": 4,
 "nbformat_minor": 5
}
