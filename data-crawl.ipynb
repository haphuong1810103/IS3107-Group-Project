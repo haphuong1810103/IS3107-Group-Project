{
 "cells": [
  {
   "cell_type": "code",
   "execution_count": 1,
   "id": "f1a75b8d",
   "metadata": {},
   "outputs": [],
   "source": [
    "import yfinance as yf\n",
    "import pandas as pd\n",
    "from datetime import datetime, date, timedelta\n",
    "import numpy as np"
   ]
  },
  {
   "cell_type": "code",
   "execution_count": 2,
   "id": "af5adc27",
   "metadata": {},
   "outputs": [],
   "source": [
    "# Define the ticker and create a Ticker object\n",
    "ticker = \"BTC\"\n",
    "stock = yf.Ticker(ticker)"
   ]
  },
  {
   "cell_type": "code",
   "execution_count": 3,
   "id": "eb3acf65",
   "metadata": {},
   "outputs": [
    {
     "name": "stdout",
     "output_type": "stream",
     "text": [
      "                                Open       High        Low      Close  \\\n",
      "Date                                                                    \n",
      "2025-03-12 00:00:00-04:00  36.930000  37.119999  35.700001  36.750000   \n",
      "2025-03-13 00:00:00-04:00  36.740002  36.820000  35.380001  35.500000   \n",
      "2025-03-14 00:00:00-04:00  36.930000  37.830002  36.630001  37.540001   \n",
      "2025-03-17 00:00:00-04:00  36.750000  37.564999  36.540001  37.450001   \n",
      "2025-03-18 00:00:00-04:00  36.509998  36.549999  35.930000  36.430000   \n",
      "\n",
      "                            Volume  Dividends  Stock Splits  Capital Gains  \n",
      "Date                                                                        \n",
      "2025-03-12 00:00:00-04:00   642500        0.0           0.0            0.0  \n",
      "2025-03-13 00:00:00-04:00   805800        0.0           0.0            0.0  \n",
      "2025-03-14 00:00:00-04:00  1004900        0.0           0.0            0.0  \n",
      "2025-03-17 00:00:00-04:00   854000        0.0           0.0            0.0  \n",
      "2025-03-18 00:00:00-04:00   820500        0.0           0.0            0.0  \n"
     ]
    }
   ],
   "source": [
    "historical_data = stock.history(period=\"1mo\")\n",
    "print(historical_data.head())"
   ]
  },
  {
   "cell_type": "code",
   "execution_count": null,
   "id": "bbddcd84",
   "metadata": {},
   "outputs": [],
   "source": []
  }
 ],
 "metadata": {
  "kernelspec": {
   "display_name": "base",
   "language": "python",
   "name": "python3"
  },
  "language_info": {
   "codemirror_mode": {
    "name": "ipython",
    "version": 3
   },
   "file_extension": ".py",
   "mimetype": "text/x-python",
   "name": "python",
   "nbconvert_exporter": "python",
   "pygments_lexer": "ipython3",
   "version": "3.12.4"
  }
 },
 "nbformat": 4,
 "nbformat_minor": 5
}
